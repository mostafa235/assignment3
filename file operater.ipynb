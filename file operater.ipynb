{
 "cells": [
  {
   "cell_type": "markdown",
   "metadata": {},
   "source": [
    "# step 1 in 2.2"
   ]
  },
  {
   "cell_type": "code",
   "execution_count": 16,
   "metadata": {},
   "outputs": [],
   "source": [
    "#open file\n",
    "file=open(\"test.txt\",\"w\")\n",
    "#Write in file\n",
    "for i in range (5):\n",
    "    file.write(\"hello_world\\n\")\n",
    "#close file   \n",
    "file.close()    "
   ]
  },
  {
   "cell_type": "markdown",
   "metadata": {},
   "source": [
    "# step 2 in 2.2"
   ]
  },
  {
   "cell_type": "code",
   "execution_count": 25,
   "metadata": {},
   "outputs": [],
   "source": [
    "#open file\n",
    "file=open(\"test.txt\",\"r+\")\n",
    "#rreturn to first file\n",
    "file.seek(0)\n",
    "#read file\n",
    "my_list=list(file.readlines())\n",
    "# conver it to upper\n",
    "for i in range(len(my_list)):\n",
    "        my_list[i]=my_list[i].upper()\n",
    "#update contant of file  \n",
    "file.writelines(my_list)\n",
    "file.close()"
   ]
  },
  {
   "cell_type": "markdown",
   "metadata": {},
   "source": [
    "# step 3 in 2.2"
   ]
  },
  {
   "cell_type": "code",
   "execution_count": 64,
   "metadata": {},
   "outputs": [],
   "source": [
    "#open file\n",
    "file=open(\"test.txt\",\"r+\")\n",
    "#rreturn to first file\n",
    "file.seek(0)\n",
    "#read file\n",
    "my_list=list(file.readlines())\n",
    "\n",
    "#return to first file\n",
    "file.seek(0)\n",
    "# use capitalize\n",
    "my_list[2]=my_list[2].capitalize()\n",
    "\n",
    "#update contant of file  \n",
    "\n",
    "file.writelines(my_list)\n",
    "file.close()"
   ]
  },
  {
   "cell_type": "markdown",
   "metadata": {},
   "source": [
    "# step 4 in 2.2"
   ]
  },
  {
   "cell_type": "code",
   "execution_count": 65,
   "metadata": {},
   "outputs": [],
   "source": [
    "with open(\"test.txt\",\"a+\") as file:\n",
    "#add statement in file    \n",
    "    file.write(\"I Love python' to it.\\n\")\n",
    "    file.close()"
   ]
  }
 ],
 "metadata": {
  "kernelspec": {
   "display_name": "Python 3",
   "language": "python",
   "name": "python3"
  },
  "language_info": {
   "codemirror_mode": {
    "name": "ipython",
    "version": 3
   },
   "file_extension": ".py",
   "mimetype": "text/x-python",
   "name": "python",
   "nbconvert_exporter": "python",
   "pygments_lexer": "ipython3",
   "version": "3.7.6"
  }
 },
 "nbformat": 4,
 "nbformat_minor": 4
}
