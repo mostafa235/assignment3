{
 "cells": [
  {
   "cell_type": "markdown",
   "metadata": {},
   "source": [
    "# circumference of the rectangle"
   ]
  },
  {
   "cell_type": "code",
   "execution_count": 3,
   "metadata": {},
   "outputs": [
    {
     "name": "stdout",
     "output_type": "stream",
     "text": [
      "enter the length2\n",
      "enter the width3\n",
      "circumferenceof the rectangle is  10.0\n"
     ]
    }
   ],
   "source": [
    "length=float(input(\"enter the length\"))\n",
    "width=float(input(\"enter the width\"))\n",
    "# circumference of the rectangle\n",
    "circumference=(2*length)+(2*width)\n",
    "print(\"circumferenceof the rectangle is \",circumference)"
   ]
  }
 ],
 "metadata": {
  "kernelspec": {
   "display_name": "Python 3",
   "language": "python",
   "name": "python3"
  },
  "language_info": {
   "codemirror_mode": {
    "name": "ipython",
    "version": 3
   },
   "file_extension": ".py",
   "mimetype": "text/x-python",
   "name": "python",
   "nbconvert_exporter": "python",
   "pygments_lexer": "ipython3",
   "version": "3.7.6"
  }
 },
 "nbformat": 4,
 "nbformat_minor": 4
}
